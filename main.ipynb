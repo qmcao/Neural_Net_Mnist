{
 "cells": [
  {
   "cell_type": "code",
   "execution_count": 3,
   "metadata": {},
   "outputs": [],
   "source": [
    "import torch\n",
    "import numpy\n",
    "\n",
    "import torch.nn as nn\n",
    "import torch.optim as optim\n",
    "from torchvision import datasets, transforms\n",
    "from torch.utils.data import DataLoader"
   ]
  },
  {
   "cell_type": "code",
   "execution_count": 2,
   "metadata": {},
   "outputs": [
    {
     "name": "stdout",
     "output_type": "stream",
     "text": [
      "True\n"
     ]
    }
   ],
   "source": [
    "cuda_available = torch.cuda.is_available()\n",
    "print(cuda_available)"
   ]
  },
  {
   "cell_type": "code",
   "execution_count": 6,
   "metadata": {},
   "outputs": [],
   "source": [
    "#Device configuration: Use GPU\n",
    "device = torch.device(\"cuda\")"
   ]
  },
  {
   "cell_type": "code",
   "execution_count": 22,
   "metadata": {},
   "outputs": [],
   "source": [
    "# Hyper parameters\n",
    "batch_size = 32\n",
    "learning_rate = 0.001\n",
    "epochs = 5\n",
    "momentum = 0.5\n",
    "random_seed = 42\n",
    "\n",
    "# 1. Load and Preprocess the MNIST dataset\n",
    "transform = transforms.Compose([\n",
    "    transforms.ToTensor(), # Converts images to Pytorch tensors\n",
    "    transforms.Normalize((0.1307,), (0.3081,)) # Normalize with mean and std for MNIST\n",
    "])\n",
    "\n",
    "\n",
    "train_dataset = datasets.MNIST(root='./data', train=True, transform=transform, download=True)\n",
    "test_dataset = datasets.MNIST(root='./data', train=False, transform=transform)\n",
    "\n",
    "train_loader = DataLoader(dataset=train_dataset, batch_size=batch_size, shuffle=True)\n",
    "test_loader = DataLoader(dataset=test_dataset, batch_size=batch_size, shuffle=False)\n"
   ]
  },
  {
   "cell_type": "code",
   "execution_count": 23,
   "metadata": {},
   "outputs": [
    {
     "data": {
      "text/plain": [
       "torch.Size([32, 1, 28, 28])"
      ]
     },
     "execution_count": 23,
     "metadata": {},
     "output_type": "execute_result"
    }
   ],
   "source": [
    "examples = enumerate(test_loader)\n",
    "batch_idx, (example_data, example_targets) = next(examples)\n",
    "example_data.shape"
   ]
  },
  {
   "cell_type": "markdown",
   "metadata": {},
   "source": [
    "- 32 example, 28*28 pixels in grayscale, 1 for no rgb chanel"
   ]
  },
  {
   "cell_type": "code",
   "execution_count": 24,
   "metadata": {},
   "outputs": [
    {
     "data": {
      "image/png": "[encoded data removed]",
      "text/plain": [
       "<Figure size 640x480 with 6 Axes>"
      ]
     },
     "execution_count": 24,
     "metadata": {},
     "output_type": "execute_result"
    },
    {
     "data": {
      "image/png": "[encoded data removed]",
      "text/plain": [
       "<Figure size 640x480 with 6 Axes>"
      ]
     },
     "metadata": {},
     "output_type": "display_data"
    }
   ],
   "source": [
    "import matplotlib.pyplot as plt\n",
    "\n",
    "fig = plt.figure()\n",
    "for i in range(6):\n",
    "  plt.subplot(2,3,i+1)\n",
    "  plt.tight_layout()\n",
    "  plt.imshow(example_data[i][0], cmap='gray', interpolation='none')\n",
    "  plt.title(\"Ground Truth: {}\".format(example_targets[i]))\n",
    "  plt.xticks([])\n",
    "  plt.yticks([])\n",
    "fig"
   ]
  },
  {
   "cell_type": "markdown",
   "metadata": {},
   "source": [
    "## 2. Define Neural Network Model\n"
   ]
  },
  {
   "cell_type": "code",
   "execution_count": 25,
   "metadata": {},
   "outputs": [],
   "source": [
    "class NeuralNet(nn.Module):\n",
    "    def __init__(self):\n",
    "        super(NeuralNet, self).__init__()\n",
    "        #Flatten layer is built into forward\n",
    "        self.fc1 = nn.Linear(in_features=28*28, out_features=64)\n",
    "        self.fc2 = nn.Linear(in_features=64, out_features=10)\n",
    "        \n",
    "        #Activation function\n",
    "        self.activation = nn.ReLU()\n",
    "        \n",
    "    def forward(self, x):\n",
    "        x = x.view(-1, 28*28)\n",
    "        x = self.fc1(x)\n",
    "        x = self.activation(x)\n",
    "        x = self.fc2(x)\n",
    "        return x"
   ]
  },
  {
   "cell_type": "code",
   "execution_count": 26,
   "metadata": {},
   "outputs": [],
   "source": [
    "model = NeuralNet().to(device)"
   ]
  },
  {
   "cell_type": "code",
   "execution_count": 27,
   "metadata": {},
   "outputs": [],
   "source": [
    "# 3. Loss Function and Optimizer\n",
    "criterion = nn.CrossEntropyLoss()\n",
    "optimizer = optim.Adam(model.parameters(), lr = learning_rate)"
   ]
  },
  {
   "cell_type": "code",
   "execution_count": 28,
   "metadata": {},
   "outputs": [
    {
     "name": "stdout",
     "output_type": "stream",
     "text": [
      "Epoch [1/5], Step [0/1875], Loss: 2.3244\n",
      "Epoch [1/5], Step [100/1875], Loss: 0.4508\n",
      "Epoch [1/5], Step [200/1875], Loss: 0.3133\n",
      "Epoch [1/5], Step [300/1875], Loss: 0.3557\n",
      "Epoch [1/5], Step [400/1875], Loss: 0.4177\n",
      "Epoch [1/5], Step [500/1875], Loss: 0.2329\n",
      "Epoch [1/5], Step [600/1875], Loss: 0.2957\n",
      "Epoch [1/5], Step [700/1875], Loss: 0.7490\n",
      "Epoch [1/5], Step [800/1875], Loss: 0.1804\n",
      "Epoch [1/5], Step [900/1875], Loss: 0.3510\n",
      "Epoch [1/5], Step [1000/1875], Loss: 0.2315\n",
      "Epoch [1/5], Step [1100/1875], Loss: 0.1802\n",
      "Epoch [1/5], Step [1200/1875], Loss: 0.0436\n",
      "Epoch [1/5], Step [1300/1875], Loss: 0.2411\n",
      "Epoch [1/5], Step [1400/1875], Loss: 0.2147\n",
      "Epoch [1/5], Step [1500/1875], Loss: 0.0694\n",
      "Epoch [1/5], Step [1600/1875], Loss: 0.3214\n",
      "Epoch [1/5], Step [1700/1875], Loss: 0.1198\n",
      "Epoch [1/5], Step [1800/1875], Loss: 0.3166\n",
      "Epoch [2/5], Step [0/1875], Loss: 0.0639\n",
      "Epoch [2/5], Step [100/1875], Loss: 0.0344\n",
      "Epoch [2/5], Step [200/1875], Loss: 0.1073\n",
      "Epoch [2/5], Step [300/1875], Loss: 0.1673\n",
      "Epoch [2/5], Step [400/1875], Loss: 0.1649\n",
      "Epoch [2/5], Step [500/1875], Loss: 0.0679\n",
      "Epoch [2/5], Step [600/1875], Loss: 0.0361\n",
      "Epoch [2/5], Step [700/1875], Loss: 0.0641\n",
      "Epoch [2/5], Step [800/1875], Loss: 0.1231\n",
      "Epoch [2/5], Step [900/1875], Loss: 0.0815\n",
      "Epoch [2/5], Step [1000/1875], Loss: 0.0974\n",
      "Epoch [2/5], Step [1100/1875], Loss: 0.0506\n",
      "Epoch [2/5], Step [1200/1875], Loss: 0.0923\n",
      "Epoch [2/5], Step [1300/1875], Loss: 0.1899\n",
      "Epoch [2/5], Step [1400/1875], Loss: 0.3076\n",
      "Epoch [2/5], Step [1500/1875], Loss: 0.0646\n",
      "Epoch [2/5], Step [1600/1875], Loss: 0.3598\n",
      "Epoch [2/5], Step [1700/1875], Loss: 0.2461\n",
      "Epoch [2/5], Step [1800/1875], Loss: 0.0311\n",
      "Epoch [3/5], Step [0/1875], Loss: 0.0781\n",
      "Epoch [3/5], Step [100/1875], Loss: 0.0127\n",
      "Epoch [3/5], Step [200/1875], Loss: 0.0391\n",
      "Epoch [3/5], Step [300/1875], Loss: 0.1904\n",
      "Epoch [3/5], Step [400/1875], Loss: 0.3533\n",
      "Epoch [3/5], Step [500/1875], Loss: 0.2344\n",
      "Epoch [3/5], Step [600/1875], Loss: 0.0131\n",
      "Epoch [3/5], Step [700/1875], Loss: 0.1728\n",
      "Epoch [3/5], Step [800/1875], Loss: 0.0483\n",
      "Epoch [3/5], Step [900/1875], Loss: 0.1737\n",
      "Epoch [3/5], Step [1000/1875], Loss: 0.1412\n",
      "Epoch [3/5], Step [1100/1875], Loss: 0.1529\n",
      "Epoch [3/5], Step [1200/1875], Loss: 0.0552\n",
      "Epoch [3/5], Step [1300/1875], Loss: 0.0179\n",
      "Epoch [3/5], Step [1400/1875], Loss: 0.1764\n",
      "Epoch [3/5], Step [1500/1875], Loss: 0.1034\n",
      "Epoch [3/5], Step [1600/1875], Loss: 0.1798\n",
      "Epoch [3/5], Step [1700/1875], Loss: 0.2404\n",
      "Epoch [3/5], Step [1800/1875], Loss: 0.0531\n",
      "Epoch [4/5], Step [0/1875], Loss: 0.1851\n",
      "Epoch [4/5], Step [100/1875], Loss: 0.0488\n",
      "Epoch [4/5], Step [200/1875], Loss: 0.0049\n",
      "Epoch [4/5], Step [300/1875], Loss: 0.0890\n",
      "Epoch [4/5], Step [400/1875], Loss: 0.0458\n",
      "Epoch [4/5], Step [500/1875], Loss: 0.0339\n",
      "Epoch [4/5], Step [600/1875], Loss: 0.0868\n",
      "Epoch [4/5], Step [700/1875], Loss: 0.0564\n",
      "Epoch [4/5], Step [800/1875], Loss: 0.0742\n",
      "Epoch [4/5], Step [900/1875], Loss: 0.0715\n",
      "Epoch [4/5], Step [1000/1875], Loss: 0.0130\n",
      "Epoch [4/5], Step [1100/1875], Loss: 0.0453\n",
      "Epoch [4/5], Step [1200/1875], Loss: 0.1247\n",
      "Epoch [4/5], Step [1300/1875], Loss: 0.0154\n",
      "Epoch [4/5], Step [1400/1875], Loss: 0.1114\n",
      "Epoch [4/5], Step [1500/1875], Loss: 0.0391\n",
      "Epoch [4/5], Step [1600/1875], Loss: 0.0988\n",
      "Epoch [4/5], Step [1700/1875], Loss: 0.0291\n",
      "Epoch [4/5], Step [1800/1875], Loss: 0.1001\n",
      "Epoch [5/5], Step [0/1875], Loss: 0.0112\n",
      "Epoch [5/5], Step [100/1875], Loss: 0.1158\n",
      "Epoch [5/5], Step [200/1875], Loss: 0.1664\n",
      "Epoch [5/5], Step [300/1875], Loss: 0.0127\n",
      "Epoch [5/5], Step [400/1875], Loss: 0.0077\n",
      "Epoch [5/5], Step [500/1875], Loss: 0.0174\n",
      "Epoch [5/5], Step [600/1875], Loss: 0.0162\n",
      "Epoch [5/5], Step [700/1875], Loss: 0.0103\n",
      "Epoch [5/5], Step [800/1875], Loss: 0.0125\n",
      "Epoch [5/5], Step [900/1875], Loss: 0.0030\n",
      "Epoch [5/5], Step [1000/1875], Loss: 0.0262\n",
      "Epoch [5/5], Step [1100/1875], Loss: 0.0264\n",
      "Epoch [5/5], Step [1200/1875], Loss: 0.0677\n",
      "Epoch [5/5], Step [1300/1875], Loss: 0.0666\n",
      "Epoch [5/5], Step [1400/1875], Loss: 0.0075\n",
      "Epoch [5/5], Step [1500/1875], Loss: 0.0246\n",
      "Epoch [5/5], Step [1600/1875], Loss: 0.0443\n",
      "Epoch [5/5], Step [1700/1875], Loss: 0.1656\n",
      "Epoch [5/5], Step [1800/1875], Loss: 0.0815\n"
     ]
    }
   ],
   "source": [
    "for epoch in range(epochs):\n",
    "    model.train()\n",
    "    for batch_idx, (data, targets) in enumerate(train_loader):\n",
    "        data = data.to(device)\n",
    "        targets = targets.to(device)\n",
    "        \n",
    "        #forward pass\n",
    "        \n",
    "        output = model.forward(data)\n",
    "        loss = criterion(output, targets)\n",
    "        \n",
    "        #backward propa\n",
    "        optimizer.zero_grad() # clear gradients from previous iter\n",
    "        loss.backward() # back propagation\n",
    "        optimizer.step() # update param\n",
    "        if batch_idx % 100 == 0:\n",
    "            print(f'Epoch [{epoch+1}/{epochs}], Step [{batch_idx}/{len(train_loader)}], Loss: {loss.item():.4f}')"
   ]
  },
  {
   "cell_type": "code",
   "execution_count": 29,
   "metadata": {},
   "outputs": [
    {
     "name": "stdout",
     "output_type": "stream",
     "text": [
      "Test Accuracy: 97.41%\n"
     ]
    }
   ],
   "source": [
    "# 5. Evaluate the Model\n",
    "model.eval()  # Set model to evaluation mode\n",
    "with torch.no_grad():  # Disable gradient computation for evaluation\n",
    "    correct = 0\n",
    "    total = 0\n",
    "    for data, targets in test_loader:\n",
    "        data = data.to(device)\n",
    "        targets = targets.to(device)\n",
    "        outputs = model(data)\n",
    "        _, predicted = torch.max(outputs.data, 1)\n",
    "        total += targets.size(0)\n",
    "        correct += (predicted == targets).sum().item()\n",
    "\n",
    "    accuracy = 100 * correct / total\n",
    "    print(f'Test Accuracy: {accuracy:.2f}%')"
   ]
  },
  {
   "cell_type": "code",
   "execution_count": null,
   "metadata": {},
   "outputs": [],
   "source": []
  }
 ],
 "metadata": {
  "kernelspec": {
   "display_name": "cs273_env",
   "language": "python",
   "name": "python3"
  },
  "language_info": {
   "codemirror_mode": {
    "name": "ipython",
    "version": 3
   },
   "file_extension": ".py",
   "mimetype": "text/x-python",
   "name": "python",
   "nbconvert_exporter": "python",
   "pygments_lexer": "ipython3",
   "version": "3.12.8"
  }
 },
 "nbformat": 4,
 "nbformat_minor": 2
}
